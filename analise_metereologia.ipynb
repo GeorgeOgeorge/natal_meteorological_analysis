{
  "nbformat": 4,
  "nbformat_minor": 0,
  "metadata": {
    "colab": {
      "name": "analise_metereologia.ipynb",
      "provenance": [],
      "collapsed_sections": [],
      "include_colab_link": true
    },
    "kernelspec": {
      "name": "python3",
      "display_name": "Python 3"
    },
    "language_info": {
      "name": "python"
    }
  },
  "cells": [
    {
      "cell_type": "markdown",
      "metadata": {
        "id": "view-in-github",
        "colab_type": "text"
      },
      "source": [
        "<a href=\"https://colab.research.google.com/github/GeorgeOgeorge/natal_meteorological_analysis/blob/main/analise_metereologia.ipynb\" target=\"_parent\"><img src=\"https://colab.research.google.com/assets/colab-badge.svg\" alt=\"Open In Colab\"/></a>"
      ]
    },
    {
      "cell_type": "code",
      "source": [
        "#importando bibliotecas utilizadas nas operações\n",
        "import matplotlib.pyplot as plt\n",
        "import numpy as np\n",
        "import pandas as pd\n",
        "import seaborn as sb"
      ],
      "metadata": {
        "id": "Hoh59tdcPLQ5"
      },
      "execution_count": 2,
      "outputs": []
    },
    {
      "cell_type": "code",
      "execution_count": null,
      "metadata": {
        "id": "mbBMsL7rNU8I"
      },
      "outputs": [],
      "source": [
        "#importando o arquivo\n",
        "from google.colab import drive\n",
        "drive.mount('/content/drive/')\n",
        "%cd /content/drive/MyDrive/"
      ]
    },
    {
      "cell_type": "markdown",
      "source": [
        "# Pré-processamento dos dados"
      ],
      "metadata": {
        "id": "OJ2HrWMN9YsD"
      }
    },
    {
      "cell_type": "code",
      "source": [
        "# Lendo a tabela e colocando o (;) como separador de colunas\n",
        "df = pd.read_csv(\"dados_natal.csv\", sep=';')\n",
        "# Deletando todas as linhas com valores faltantes\n",
        "df.dropna(axis=0, inplace=True)\n",
        "# Mudando (,) nos valores decimais para (.)\n",
        "df.replace(',', '.', regex=True, inplace=True)\n",
        "\n",
        "# Fazendo conversão dos dados analiticos para o tipo Float\n",
        "dados_metereologicos = df.iloc[:,2:19].astype(float)\n",
        "# Convertendo o valor da data para o tipo DateTime\n",
        "data = pd.to_datetime(df['Data'])\n",
        "\n",
        "# Concatenando DataFrames\n",
        "final_df = pd.concat([data, df['Hora (UTC)'], dados_metereologicos], axis=1)\n",
        "# Definindo coluna Data como indice para linhas\n",
        "final_df = final_df.set_index(['Data'])\n",
        "\n",
        "final_df"
      ],
      "metadata": {
        "id": "bI1rw3oeQH9G"
      },
      "execution_count": null,
      "outputs": []
    },
    {
      "cell_type": "markdown",
      "source": [
        "# Questões"
      ],
      "metadata": {
        "id": "4JwF4U0bGUVW"
      }
    },
    {
      "cell_type": "code",
      "source": [
        "#Questão: A) Tabela com estatísticas descritivas de todas as variáveis\n",
        "final_df.describe()"
      ],
      "metadata": {
        "id": "V2aFcRiKykbB"
      },
      "execution_count": null,
      "outputs": []
    },
    {
      "cell_type": "code",
      "source": [
        "#Questão B) Série precipitação mensal.\n",
        "meses = [\n",
        "  final_df.loc['2021-1-1':'2021-2-1'],\n",
        "  final_df.loc['2021-2-1':'2021-3-1'],\n",
        "  final_df.loc['2021-3-1':'2021-4-1'],\n",
        "  final_df.loc['2021-4-1':'2021-5-1'],\n",
        "  final_df.loc['2021-5-1':'2021-6-1'],\n",
        "  final_df.loc['2021-6-1':'2021-7-1'],\n",
        "  final_df.loc['2021-7-1':'2021-8-1'],\n",
        "  final_df.loc['2021-8-1':'2021-9-1'],\n",
        "  final_df.loc['2021-9-1':'2021-10-1'],\n",
        "  final_df.loc['2021-10-1':'2021-11-1'],\n",
        "  final_df.loc['2021-11-1':'2021-12-1'],\n",
        "  final_df.loc['2021-12-1':'2021-12-31']\n",
        "]\n",
        "\n",
        "dados_chuva = []\n",
        "\n",
        "for mes in meses:\n",
        "  dados_chuva.append([\n",
        "    mes[\"Chuva (mm)\"].max(),\n",
        "    mes[\"Chuva (mm)\"].mean(),\n",
        "    mes[\"Chuva (mm)\"].min()\n",
        "  ])\n",
        "\n",
        "df_chuvas = pd.DataFrame(dados_chuva,columns=['Maxima', 'Media', 'Minima'])\n",
        "\n",
        "df_chuvas"
      ],
      "metadata": {
        "id": "UT5BfB7Fzfr7"
      },
      "execution_count": null,
      "outputs": []
    },
    {
      "cell_type": "code",
      "source": [
        "#C) Serie de Temperatura mínima, media e máxima.\n",
        "meses = [\n",
        "  final_df.loc['2021-1-1':'2021-2-1'],\n",
        "  final_df.loc['2021-2-1':'2021-3-1'],\n",
        "  final_df.loc['2021-3-1':'2021-4-1'],\n",
        "  final_df.loc['2021-4-1':'2021-5-1'],\n",
        "  final_df.loc['2021-5-1':'2021-6-1'],\n",
        "  final_df.loc['2021-6-1':'2021-7-1'],\n",
        "  final_df.loc['2021-7-1':'2021-8-1'],\n",
        "  final_df.loc['2021-8-1':'2021-9-1'],\n",
        "  final_df.loc['2021-9-1':'2021-10-1'],\n",
        "  final_df.loc['2021-10-1':'2021-11-1'],\n",
        "  final_df.loc['2021-11-1':'2021-12-1'],\n",
        "  final_df.loc['2021-12-1':'2021-12-31']\n",
        "]\n",
        "\n",
        "dados_temperatura = []\n",
        "\n",
        "for mes in meses:\n",
        "  dados_temperatura.append([\n",
        "    mes[\"Temp. Max. (C)\"].max(),\n",
        "    mes[\"Temp. Max. (C)\"].mean(),\n",
        "    mes[\"Temp. Max. (C)\"].min(),\n",
        "    mes[\"Temp. Ins. (C)\"].max(),\n",
        "    mes[\"Temp. Ins. (C)\"].mean(),\n",
        "    mes[\"Temp. Ins. (C)\"].min(),\n",
        "    mes[\"Temp. Min. (C)\"].max(),\n",
        "    mes[\"Temp. Min. (C)\"].mean(),\n",
        "    mes[\"Temp. Min. (C)\"].min()\n",
        "  ])\n",
        "\n",
        "df_temperaturas = pd.DataFrame(dados_temperatura,\n",
        "                               columns=['Maxima_maxima', 'Maxima_media', 'Maxima_minima',\n",
        "                                        'Media_maxima', 'Media_media', 'Media_minima',\n",
        "                                        'Minima_maxima', 'Minima_media', 'Minima_minima'\n",
        "                                        ])\n",
        "\n",
        "df_temperaturas"
      ],
      "metadata": {
        "id": "YZdk8wNN4vmp"
      },
      "execution_count": null,
      "outputs": []
    },
    {
      "cell_type": "code",
      "source": [
        "#D) Correlação entre precipitação e temperatura.\n",
        "sb.relplot(data=final_df, x='Temp. Ins. (C)', y='Chuva (mm)')"
      ],
      "metadata": {
        "id": "H7v1nai45EWM"
      },
      "execution_count": null,
      "outputs": []
    },
    {
      "cell_type": "code",
      "source": [
        "#E) Correlação entre precipitação e vento. \n",
        "sb.relplot(data=final_df, x='Vel. Vento (m/s)', y='Chuva (mm)')"
      ],
      "metadata": {
        "id": "Fd-Q0uRt5f2t"
      },
      "execution_count": null,
      "outputs": []
    },
    {
      "cell_type": "code",
      "source": [
        "#F) Correlação entre temperatura e vento.\n",
        "sb.relplot(data=final_df, x='Temp. Ins. (C)', y='Vel. Vento (m/s)')"
      ],
      "metadata": {
        "id": "A2L8QbtL5jYK"
      },
      "execution_count": null,
      "outputs": []
    },
    {
      "cell_type": "code",
      "source": [
        "# Chuvas em natal acontecem na madrugada :(\n",
        "sb.relplot(data=final_df, x='Hora (UTC)', y='Chuva (mm)')"
      ],
      "metadata": {
        "id": "CiHEax2t3e58"
      },
      "execution_count": null,
      "outputs": []
    },
    {
      "cell_type": "code",
      "source": [
        "# Mapa de calor de correlações\n",
        "corr = final_df.corr()\n",
        "sb.heatmap(corr, annot=True, fmt=\".1f\")"
      ],
      "metadata": {
        "id": "q4G0u1SgpQH6"
      },
      "execution_count": null,
      "outputs": []
    }
  ]
}